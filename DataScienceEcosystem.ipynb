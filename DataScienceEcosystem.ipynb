{
 "cells": [
  {
   "cell_type": "markdown",
   "id": "dc340d47-6709-4691-942b-6bdb013e4d94",
   "metadata": {},
   "source": [
    "# Data Science Tools and Ecosystem"
   ]
  },
  {
   "cell_type": "markdown",
   "id": "62e2f137-dce0-49c8-8671-caa1588a9be1",
   "metadata": {},
   "source": [
    "# In this notebook, Data Science Tools and Ecosystem are summarized."
   ]
  },
  {
   "cell_type": "markdown",
   "id": "4bad34ed-fadf-4153-84a3-a651d99822f2",
   "metadata": {},
   "source": [
    "**Objectives:**\n",
    "* Jupyter Notebook\n",
    "* R\n",
    "* Python\n",
    "* SQL\n",
    "  "
   ]
  },
  {
   "cell_type": "markdown",
   "id": "4485cc29-8739-4f1a-83f3-f139563a97f1",
   "metadata": {},
   "source": [
    "# Some of the popular languages that Data Scientists use are:"
   ]
  },
  {
   "cell_type": "markdown",
   "id": "c2e31eae-1983-4532-a58e-4834f9bee06f",
   "metadata": {},
   "source": [
    "1. Python\n",
    "2. R\n",
    "4. SQL"
   ]
  },
  {
   "cell_type": "markdown",
   "id": "b339a5ad-4653-42c0-9968-4c51a6eac568",
   "metadata": {},
   "source": [
    "# Some of the commonly used libraries used by Data Scientists include:\n",
    "\n",
    "1. Panda\n",
    "2. Numpy\n",
    "3. Apache spark\n",
    "4. Scala\n",
    "5. Pytorch\n",
    "6. Scikit\n",
    "7. TensorFlow"
   ]
  },
  {
   "cell_type": "markdown",
   "id": "cbef6ba0-31e7-4384-a2ad-2942a8499773",
   "metadata": {},
   "source": [
    "# Data Science Tools\n",
    "\n",
    "| Data science tools|\n",
    "|-------------------|\n",
    "| Jupyter Notebook |\n",
    "| Jupyter Lab |\n",
    "| Git Hub |"
   ]
  },
  {
   "cell_type": "markdown",
   "id": "b7e77e30-1550-4c23-9c3f-6215cd77edc5",
   "metadata": {},
   "source": [
    "### Below are a few examples of evaluating arithmetic expressions in Python\n"
   ]
  },
  {
   "cell_type": "code",
   "execution_count": 3,
   "id": "f5af2bf3-ae14-4111-ad4c-4325597b1f72",
   "metadata": {},
   "outputs": [
    {
     "data": {
      "text/plain": [
       "17"
      ]
     },
     "execution_count": 3,
     "metadata": {},
     "output_type": "execute_result"
    }
   ],
   "source": [
    "# This a simple arithmetic expression to mutiply then add integers\n",
    "(3*4)+5\n"
   ]
  },
  {
   "cell_type": "code",
   "execution_count": 4,
   "id": "e0a20ad2-7644-40c4-9c7f-7a4883ca7671",
   "metadata": {},
   "outputs": [
    {
     "data": {
      "text/plain": [
       "3.3333333333333335"
      ]
     },
     "execution_count": 4,
     "metadata": {},
     "output_type": "execute_result"
    }
   ],
   "source": [
    "#  This will convert 200 minutes to hours by diving by 60\n",
    "200/60"
   ]
  },
  {
   "cell_type": "markdown",
   "id": "de5838ca-83c1-4e82-bb8c-c08fce41be3b",
   "metadata": {},
   "source": [
    "## Author\n",
    "Stephen"
   ]
  }
 ],
 "metadata": {
  "kernelspec": {
   "display_name": "Python 3 (ipykernel)",
   "language": "python",
   "name": "python3"
  },
  "language_info": {
   "codemirror_mode": {
    "name": "ipython",
    "version": 3
   },
   "file_extension": ".py",
   "mimetype": "text/x-python",
   "name": "python",
   "nbconvert_exporter": "python",
   "pygments_lexer": "ipython3",
   "version": "3.12.8"
  }
 },
 "nbformat": 4,
 "nbformat_minor": 5
}
